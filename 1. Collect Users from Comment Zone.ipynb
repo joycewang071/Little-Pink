{
 "cells": [
  {
   "cell_type": "code",
   "execution_count": 29,
   "id": "6c48deff",
   "metadata": {},
   "outputs": [
    {
     "name": "stdout",
     "output_type": "stream",
     "text": [
      "Collecting pandas==1.4.0\n",
      "  Downloading pandas-1.4.0-cp38-cp38-win_amd64.whl (10.6 MB)\n",
      "     ---------------------------------------- 0.0/10.6 MB ? eta -:--:--\n",
      "     ---- ----------------------------------- 1.2/10.6 MB 25.3 MB/s eta 0:00:01\n",
      "     --------- ------------------------------ 2.5/10.6 MB 22.5 MB/s eta 0:00:01\n",
      "     --------------- ------------------------ 4.0/10.6 MB 23.3 MB/s eta 0:00:01\n",
      "     --------------------- ------------------ 5.7/10.6 MB 24.0 MB/s eta 0:00:01\n",
      "     ----------------------- ---------------- 6.3/10.6 MB 23.6 MB/s eta 0:00:01\n",
      "     ----------------------- ---------------- 6.3/10.6 MB 23.6 MB/s eta 0:00:01\n",
      "     ----------------------- ---------------- 6.3/10.6 MB 23.6 MB/s eta 0:00:01\n",
      "     ----------------------- ---------------- 6.3/10.6 MB 23.6 MB/s eta 0:00:01\n",
      "     --------------------------- ------------ 7.2/10.6 MB 13.2 MB/s eta 0:00:01\n",
      "     --------------------------- ------------ 7.3/10.6 MB 13.0 MB/s eta 0:00:01\n",
      "     --------------------------- ------------ 7.3/10.6 MB 13.0 MB/s eta 0:00:01\n",
      "     --------------------------- ------------ 7.3/10.6 MB 13.0 MB/s eta 0:00:01\n",
      "     --------------------------- ------------ 7.3/10.6 MB 13.0 MB/s eta 0:00:01\n",
      "     --------------------------- ------------ 7.3/10.6 MB 13.0 MB/s eta 0:00:01\n",
      "     --------------------------- ------------ 7.3/10.6 MB 13.0 MB/s eta 0:00:01\n",
      "     --------------------------- ------------ 7.3/10.6 MB 13.0 MB/s eta 0:00:01\n",
      "     ------------------------------- -------- 8.3/10.6 MB 9.0 MB/s eta 0:00:01\n",
      "     ------------------------------- -------- 8.4/10.6 MB 9.1 MB/s eta 0:00:01\n",
      "     ------------------------------- -------- 8.4/10.6 MB 9.1 MB/s eta 0:00:01\n",
      "     ------------------------------- -------- 8.4/10.6 MB 9.1 MB/s eta 0:00:01\n",
      "     ------------------------------- -------- 8.4/10.6 MB 9.1 MB/s eta 0:00:01\n",
      "     ----------------------------------- ---- 9.3/10.6 MB 8.0 MB/s eta 0:00:01\n",
      "     ----------------------------------- ---- 9.4/10.6 MB 8.1 MB/s eta 0:00:01\n",
      "     ----------------------------------- ---- 9.4/10.6 MB 8.1 MB/s eta 0:00:01\n",
      "     ----------------------------------- ---- 9.4/10.6 MB 8.1 MB/s eta 0:00:01\n",
      "     ----------------------------------- ---- 9.4/10.6 MB 8.1 MB/s eta 0:00:01\n",
      "     -------------------------------------- - 10.2/10.6 MB 7.3 MB/s eta 0:00:01\n",
      "     ---------------------------------------  10.6/10.6 MB 7.4 MB/s eta 0:00:01\n",
      "     ---------------------------------------- 10.6/10.6 MB 7.2 MB/s eta 0:00:00\n",
      "Requirement already satisfied: python-dateutil>=2.8.1 in c:\\users\\10292\\anaconda3\\lib\\site-packages (from pandas==1.4.0) (2.8.2)\n",
      "Requirement already satisfied: pytz>=2020.1 in c:\\users\\10292\\anaconda3\\lib\\site-packages (from pandas==1.4.0) (2022.7)\n",
      "Requirement already satisfied: numpy>=1.18.5 in c:\\users\\10292\\anaconda3\\lib\\site-packages (from pandas==1.4.0) (1.19.0)\n",
      "Requirement already satisfied: six>=1.5 in c:\\users\\10292\\anaconda3\\lib\\site-packages (from python-dateutil>=2.8.1->pandas==1.4.0) (1.16.0)\n",
      "Installing collected packages: pandas\n",
      "  Attempting uninstall: pandas\n",
      "    Found existing installation: pandas 1.5.1\n",
      "    Uninstalling pandas-1.5.1:\n",
      "      Successfully uninstalled pandas-1.5.1\n",
      "Successfully installed pandas-1.4.0\n"
     ]
    }
   ],
   "source": [
    "!pip install pandas==1.4.0\n",
    "!pip uninstall -y numpy\n",
    "!pip install numpy==1.23.0\n",
    "# Remember to restart the kernel when you are updating the environment!!!!"
   ]
  },
  {
   "cell_type": "code",
   "execution_count": 41,
   "id": "6c720b40",
   "metadata": {},
   "outputs": [
    {
     "name": "stdout",
     "output_type": "stream",
     "text": [
      "Found existing installation: numpy 1.24.3\n",
      "Uninstalling numpy-1.24.3:\n",
      "  Successfully uninstalled numpy-1.24.3\n"
     ]
    }
   ],
   "source": []
  },
  {
   "cell_type": "code",
   "execution_count": 3,
   "id": "ccdf3b91",
   "metadata": {},
   "outputs": [
    {
     "name": "stdout",
     "output_type": "stream",
     "text": [
      "1.24.3\n",
      "1.4.0\n"
     ]
    }
   ],
   "source": [
    "import numpy as np\n",
    "print(np.__version__) #1.24.3\n",
    "import pandas as pd\n",
    "print(pd.__version__) #1.4.0"
   ]
  },
  {
   "cell_type": "code",
   "execution_count": 11,
   "id": "b3dc07f7",
   "metadata": {},
   "outputs": [],
   "source": [
    "# -*- coding: utf-8 -*- \n",
    "# use python 3 \n",
    "\n",
    "import numpy as np\n",
    "import sys\n",
    "import re\n",
    "import rsa\n",
    "import http.cookiejar  # cookielib in python 2\n",
    "import base64\n",
    "import json\n",
    "import urllib\n",
    "import urllib.parse\n",
    "import binascii\n",
    "import codecs\n",
    "import pandas as pd\n",
    "from lxml import etree\n",
    "import os\n",
    "import time\n",
    "import datetime\n",
    "import random\n",
    "from urllib.parse import urlencode, quote\n",
    "\n",
    "import urllib.error\n",
    "import urllib.request\n",
    "from DecryptLogin import login  #爬虫库\n",
    "import logging\n",
    "import ssl\n",
    "ssl._create_default_https_context = ssl._create_unverified_context\n",
    "\n",
    "\n",
    "\n",
    "\n"
   ]
  },
  {
   "cell_type": "code",
   "execution_count": 12,
   "id": "f4a15a0e",
   "metadata": {},
   "outputs": [
    {
     "name": "stdout",
     "output_type": "stream",
     "text": [
      "Welcome to use DecryptLogin!\n",
      "You can visit https://github.com/CharlesPikachu/DecryptLogin for more details.\n",
      "[INFO]: Resume 1029200273xx@sina.com's session and infos from C:\\Users\\10292\\anaconda3\\lib\\site-packages\\DecryptLogin\\modules\\clients\\weibo.pkl\n"
     ]
    }
   ],
   "source": [
    "username = \"\"; password =''\n",
    "\n",
    "client = login.Client()\n",
    "lg=client.weibo(reload_history=True) #reload the login history\n",
    "infos_return,session = lg.login(username, password, 'mobile') #enter SMS code\n"
   ]
  },
  {
   "cell_type": "code",
   "execution_count": 14,
   "id": "abda4c64",
   "metadata": {},
   "outputs": [],
   "source": [
    "def find_user_kol(kol,start_time,end_time,profile_pagenum,comment_pagenum,session):\n",
    "    \n",
    "    value=[]\n",
    "\n",
    "    for j in range(profile_pagenum):\n",
    "        \n",
    "        url = f' https://weibo.cn/{kol}/profile?hasori=0&haspic=0&starttime={start_time}&endtime={end_time}&advancedfilter=1&page={j+1}'\n",
    "        print(url)\n",
    "        respo = session.get(url)\n",
    "        tree = etree.HTML(respo.content)\n",
    "        xpath0 = \"//div[@class='c']/@id\"\n",
    "        items = tree.xpath(xpath0)\n",
    "        item_no=len(items)\n",
    "#         print(item_no)\n",
    "#         print(items)\n",
    "\n",
    "        ## iterate each post\n",
    "        for item in range(item_no):\n",
    "#             print(item)\n",
    "            wbid=items[item][2:]\n",
    "\n",
    "            ##comment page of a post\n",
    "            for i in range(comment_pagenum):\n",
    "                url = f'https://weibo.cn/comment/hot/{wbid}?rl=2&page={i+1}'\n",
    "#                 print(url)\n",
    "                respo = session.get(url)\n",
    "                tree2 = etree.HTML(respo.content)\n",
    "                xpath1 = \"//div[@class='c']/@id\"\n",
    "                try:\n",
    "                    ran_id = tree2.xpath(xpath1)\n",
    "                #     print(ran_id)\n",
    "                    for i in ran_id:\n",
    "                        xpath2=f'//*[@id=\"{i}\"]/a[1]/@href'\n",
    "                        d_uid = tree2.xpath(xpath2)\n",
    "                        uid=d_uid[0].rsplit('/', 1)[-1]\n",
    "                #         print(uid)\n",
    "                        value.append(uid)\n",
    "                except:\n",
    "                    break\n",
    "    \n",
    "    rate=0\n",
    "    if (len(value)!=0):\n",
    "        rate= len(set(value))/len(value)\n",
    "    \n",
    "    df=pd.DataFrame({'uid':value})\n",
    "    df.to_csv('user_commmented_to_%s.csv'%kol,mode='a', index=False,header=False)\n",
    "\n",
    "    print('For KOL %s unique rate of active follower is %f' %(kol,rate))    \n",
    "    \n",
    "#     print(len(value))\n",
    "    print('no of unique users is %d' %len(set(value)))\n",
    "\n",
    "    return value\n"
   ]
  },
  {
   "cell_type": "code",
   "execution_count": 15,
   "id": "1ef0a148",
   "metadata": {},
   "outputs": [
    {
     "name": "stdout",
     "output_type": "stream",
     "text": [
      "3\n"
     ]
    }
   ],
   "source": [
    "kols=['3939426052','1989660417','2150758415']\n",
    "# with codecs.open('kol.txt', 'r', encoding='utf-8',\n",
    "# errors='ignore') as f:\n",
    "#     for line in f.readlines():\n",
    "#         kols.append(line.strip('\\r\\n'))\n",
    "\n",
    "print(len(kols))"
   ]
  },
  {
   "cell_type": "code",
   "execution_count": 19,
   "id": "ab553407",
   "metadata": {},
   "outputs": [],
   "source": [
    "time=[\"20220201\",\"20220301\",\"20220401\",\"20220501\",\"20220601\",\"20220701\",\"20220801\",\"20220901\"]"
   ]
  },
  {
   "cell_type": "code",
   "execution_count": 21,
   "id": "2fc1b7a5",
   "metadata": {
    "scrolled": true
   },
   "outputs": [
    {
     "name": "stdout",
     "output_type": "stream",
     "text": [
      " https://weibo.cn/3939426052/profile?hasori=0&haspic=0&starttime=20220201&endtime=20220301&advancedfilter=1&page=1\n",
      "For KOL 3939426052 unique rate of active follower is 0.985075\n",
      "no of unique users is 66\n",
      "find 66 unique users\n",
      " https://weibo.cn/3939426052/profile?hasori=0&haspic=0&starttime=20220301&endtime=20220401&advancedfilter=1&page=1\n",
      "For KOL 3939426052 unique rate of active follower is 0.927273\n",
      "no of unique users is 51\n",
      "find 51 unique users\n",
      " https://weibo.cn/3939426052/profile?hasori=0&haspic=0&starttime=20220401&endtime=20220501&advancedfilter=1&page=1\n",
      "For KOL 3939426052 unique rate of active follower is 0.980769\n",
      "no of unique users is 51\n",
      "find 51 unique users\n",
      " https://weibo.cn/3939426052/profile?hasori=0&haspic=0&starttime=20220501&endtime=20220601&advancedfilter=1&page=1\n",
      "For KOL 3939426052 unique rate of active follower is 1.000000\n",
      "no of unique users is 47\n",
      "find 47 unique users\n",
      " https://weibo.cn/3939426052/profile?hasori=0&haspic=0&starttime=20220601&endtime=20220701&advancedfilter=1&page=1\n",
      "For KOL 3939426052 unique rate of active follower is 0.928571\n",
      "no of unique users is 65\n",
      "find 65 unique users\n",
      " https://weibo.cn/3939426052/profile?hasori=0&haspic=0&starttime=20220701&endtime=20220801&advancedfilter=1&page=1\n",
      "For KOL 3939426052 unique rate of active follower is 0.931034\n",
      "no of unique users is 54\n",
      "find 54 unique users\n",
      " https://weibo.cn/3939426052/profile?hasori=0&haspic=0&starttime=20220801&endtime=20220901&advancedfilter=1&page=1\n",
      "For KOL 3939426052 unique rate of active follower is 0.964912\n",
      "no of unique users is 55\n",
      "find 55 unique users\n",
      " https://weibo.cn/1989660417/profile?hasori=0&haspic=0&starttime=20220201&endtime=20220301&advancedfilter=1&page=1\n",
      "For KOL 1989660417 unique rate of active follower is 0.944444\n",
      "no of unique users is 34\n",
      "find 34 unique users\n",
      " https://weibo.cn/1989660417/profile?hasori=0&haspic=0&starttime=20220301&endtime=20220401&advancedfilter=1&page=1\n",
      "For KOL 1989660417 unique rate of active follower is 0.957447\n",
      "no of unique users is 45\n",
      "find 45 unique users\n",
      " https://weibo.cn/1989660417/profile?hasori=0&haspic=0&starttime=20220401&endtime=20220501&advancedfilter=1&page=1\n",
      "For KOL 1989660417 unique rate of active follower is 0.950000\n",
      "no of unique users is 38\n",
      "find 38 unique users\n",
      " https://weibo.cn/1989660417/profile?hasori=0&haspic=0&starttime=20220501&endtime=20220601&advancedfilter=1&page=1\n",
      "For KOL 1989660417 unique rate of active follower is 0.957447\n",
      "no of unique users is 45\n",
      "find 45 unique users\n",
      " https://weibo.cn/1989660417/profile?hasori=0&haspic=0&starttime=20220601&endtime=20220701&advancedfilter=1&page=1\n",
      "For KOL 1989660417 unique rate of active follower is 0.910714\n",
      "no of unique users is 51\n",
      "find 51 unique users\n",
      " https://weibo.cn/1989660417/profile?hasori=0&haspic=0&starttime=20220701&endtime=20220801&advancedfilter=1&page=1\n",
      "For KOL 1989660417 unique rate of active follower is 0.913793\n",
      "no of unique users is 53\n",
      "find 53 unique users\n",
      " https://weibo.cn/1989660417/profile?hasori=0&haspic=0&starttime=20220801&endtime=20220901&advancedfilter=1&page=1\n",
      "For KOL 1989660417 unique rate of active follower is 0.842857\n",
      "no of unique users is 59\n",
      "find 59 unique users\n",
      " https://weibo.cn/2150758415/profile?hasori=0&haspic=0&starttime=20220201&endtime=20220301&advancedfilter=1&page=1\n",
      "For KOL 2150758415 unique rate of active follower is 0.898876\n",
      "no of unique users is 80\n",
      "find 80 unique users\n",
      " https://weibo.cn/2150758415/profile?hasori=0&haspic=0&starttime=20220301&endtime=20220401&advancedfilter=1&page=1\n",
      "For KOL 2150758415 unique rate of active follower is 0.963415\n",
      "no of unique users is 79\n",
      "find 79 unique users\n",
      " https://weibo.cn/2150758415/profile?hasori=0&haspic=0&starttime=20220401&endtime=20220501&advancedfilter=1&page=1\n",
      "For KOL 2150758415 unique rate of active follower is 0.917647\n",
      "no of unique users is 78\n",
      "find 78 unique users\n",
      " https://weibo.cn/2150758415/profile?hasori=0&haspic=0&starttime=20220501&endtime=20220601&advancedfilter=1&page=1\n",
      "For KOL 2150758415 unique rate of active follower is 0.924051\n",
      "no of unique users is 73\n",
      "find 73 unique users\n",
      " https://weibo.cn/2150758415/profile?hasori=0&haspic=0&starttime=20220601&endtime=20220701&advancedfilter=1&page=1\n",
      "For KOL 2150758415 unique rate of active follower is 0.920455\n",
      "no of unique users is 81\n",
      "find 81 unique users\n",
      " https://weibo.cn/2150758415/profile?hasori=0&haspic=0&starttime=20220701&endtime=20220801&advancedfilter=1&page=1\n",
      "For KOL 2150758415 unique rate of active follower is 0.987342\n",
      "no of unique users is 78\n",
      "find 78 unique users\n",
      " https://weibo.cn/2150758415/profile?hasori=0&haspic=0&starttime=20220801&endtime=20220901&advancedfilter=1&page=1\n",
      "For KOL 2150758415 unique rate of active follower is 0.894737\n",
      "no of unique users is 51\n",
      "find 51 unique users\n"
     ]
    }
   ],
   "source": [
    "for i in range(len(kols)):\n",
    "    kol=kols[i]\n",
    "    profile_pagenum=1\n",
    "    comment_pagenum=1\n",
    "    for t in range(len(time)-1):\n",
    "        start_time = time[t]\n",
    "        end_time =time[t+1]\n",
    "        \n",
    "        user=[]\n",
    "        user=find_user_kol(kol,start_time,end_time,profile_pagenum,comment_pagenum,session)\n",
    "\n",
    "        df=pd.DataFrame({'uid':list(set(user))})\n",
    "        df.to_csv('user_commented_to_%s_cleaned_%s_to_%s.csv'%(kol,start_time,end_time),mode='a', index=False,header=False)\n",
    "\n",
    "        print('find %d unique users' %len(set(user)))\n",
    "    "
   ]
  },
  {
   "cell_type": "code",
   "execution_count": null,
   "id": "634c8e9f",
   "metadata": {},
   "outputs": [],
   "source": []
  },
  {
   "cell_type": "code",
   "execution_count": null,
   "id": "a522ca82",
   "metadata": {},
   "outputs": [],
   "source": []
  },
  {
   "cell_type": "code",
   "execution_count": 10,
   "id": "13c61a93",
   "metadata": {},
   "outputs": [
    {
     "name": "stdout",
     "output_type": "stream",
     "text": [
      " https://weibo.cn/3939426052/profile?hasori=0&haspic=0&starttime=20220201&endtime=20220301&advancedfilter=1&page=1\n",
      "For KOL 3939426052 unique rate of active follower is 0.970803\n",
      "no of unique users is 133\n",
      "find 133 unique users\n"
     ]
    }
   ],
   "source": [
    "## one user in one month\n",
    "start_time = \"20220201\"\n",
    "end_time =\"20220301\"\n",
    "profile_pagenum=2\n",
    "comment_pagenum=1\n",
    "\n",
    "user=[]\n",
    "\n",
    "user=find_user_kol(kols[0],start_time,end_time,profile_pagenum,comment_pagenum,session)\n",
    "\n",
    "df=pd.DataFrame({'uid':list(set(user))})\n",
    "df.to_csv('user_commented_to_%s_cleaned_%s_to_%s.csv'%(kols[0],start_time,end_time),mode='a', index=False,header=False)\n",
    "\n",
    "print('find %d unique users' %len(set(user)))"
   ]
  },
  {
   "cell_type": "code",
   "execution_count": null,
   "id": "d84805d7",
   "metadata": {},
   "outputs": [],
   "source": [
    "## For all unique users, extract one of their post at each month from 2.1 to 9.1, from weibo_id to find their location\n"
   ]
  }
 ],
 "metadata": {
  "kernelspec": {
   "display_name": "Python 3 (ipykernel)",
   "language": "python",
   "name": "python3"
  },
  "language_info": {
   "codemirror_mode": {
    "name": "ipython",
    "version": 3
   },
   "file_extension": ".py",
   "mimetype": "text/x-python",
   "name": "python",
   "nbconvert_exporter": "python",
   "pygments_lexer": "ipython3",
   "version": "3.8.8"
  }
 },
 "nbformat": 4,
 "nbformat_minor": 5
}
